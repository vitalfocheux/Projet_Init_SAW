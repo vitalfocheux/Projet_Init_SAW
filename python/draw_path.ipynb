{
  "nbformat": 4,
  "nbformat_minor": 0,
  "metadata": {
    "colab": {
      "provenance": []
    },
    "kernelspec": {
      "name": "python3",
      "display_name": "Python 3"
    },
    "language_info": {
      "name": "python"
    }
  },
  "cells": [
    {
      "cell_type": "markdown",
      "source": [
        "# Downloads and Imports"
      ],
      "metadata": {
        "id": "iNiZ8hk305Id"
      }
    },
    {
      "cell_type": "code",
      "source": [
        "!pip install ipyturtle3\n",
        "\n",
        "import random\n",
        "import matplotlib.pyplot as plt\n",
        "import numpy as np"
      ],
      "metadata": {
        "colab": {
          "base_uri": "https://localhost:8080/"
        },
        "id": "qdSV6YmYwZ2B",
        "outputId": "8ec742be-38df-4cad-9e32-9a40d9e9c763"
      },
      "execution_count": 27,
      "outputs": [
        {
          "output_type": "stream",
          "name": "stdout",
          "text": [
            "Requirement already satisfied: ipyturtle3 in /usr/local/lib/python3.11/dist-packages (0.1.4)\n",
            "Requirement already satisfied: ipycanvas in /usr/local/lib/python3.11/dist-packages (from ipyturtle3) (0.13.3)\n",
            "Requirement already satisfied: webcolors in /usr/local/lib/python3.11/dist-packages (from ipyturtle3) (24.11.1)\n",
            "Requirement already satisfied: ipywidgets<9,>=7.6.0 in /usr/local/lib/python3.11/dist-packages (from ipycanvas->ipyturtle3) (7.7.1)\n",
            "Requirement already satisfied: numpy in /usr/local/lib/python3.11/dist-packages (from ipycanvas->ipyturtle3) (2.0.2)\n",
            "Requirement already satisfied: pillow>=6.0 in /usr/local/lib/python3.11/dist-packages (from ipycanvas->ipyturtle3) (11.1.0)\n",
            "Requirement already satisfied: ipykernel>=4.5.1 in /usr/local/lib/python3.11/dist-packages (from ipywidgets<9,>=7.6.0->ipycanvas->ipyturtle3) (6.17.1)\n",
            "Requirement already satisfied: ipython-genutils~=0.2.0 in /usr/local/lib/python3.11/dist-packages (from ipywidgets<9,>=7.6.0->ipycanvas->ipyturtle3) (0.2.0)\n",
            "Requirement already satisfied: traitlets>=4.3.1 in /usr/local/lib/python3.11/dist-packages (from ipywidgets<9,>=7.6.0->ipycanvas->ipyturtle3) (5.7.1)\n",
            "Requirement already satisfied: widgetsnbextension~=3.6.0 in /usr/local/lib/python3.11/dist-packages (from ipywidgets<9,>=7.6.0->ipycanvas->ipyturtle3) (3.6.10)\n",
            "Requirement already satisfied: ipython>=4.0.0 in /usr/local/lib/python3.11/dist-packages (from ipywidgets<9,>=7.6.0->ipycanvas->ipyturtle3) (7.34.0)\n",
            "Requirement already satisfied: jupyterlab-widgets>=1.0.0 in /usr/local/lib/python3.11/dist-packages (from ipywidgets<9,>=7.6.0->ipycanvas->ipyturtle3) (3.0.13)\n",
            "Requirement already satisfied: debugpy>=1.0 in /usr/local/lib/python3.11/dist-packages (from ipykernel>=4.5.1->ipywidgets<9,>=7.6.0->ipycanvas->ipyturtle3) (1.8.0)\n",
            "Requirement already satisfied: jupyter-client>=6.1.12 in /usr/local/lib/python3.11/dist-packages (from ipykernel>=4.5.1->ipywidgets<9,>=7.6.0->ipycanvas->ipyturtle3) (6.1.12)\n",
            "Requirement already satisfied: matplotlib-inline>=0.1 in /usr/local/lib/python3.11/dist-packages (from ipykernel>=4.5.1->ipywidgets<9,>=7.6.0->ipycanvas->ipyturtle3) (0.1.7)\n",
            "Requirement already satisfied: nest-asyncio in /usr/local/lib/python3.11/dist-packages (from ipykernel>=4.5.1->ipywidgets<9,>=7.6.0->ipycanvas->ipyturtle3) (1.6.0)\n",
            "Requirement already satisfied: packaging in /usr/local/lib/python3.11/dist-packages (from ipykernel>=4.5.1->ipywidgets<9,>=7.6.0->ipycanvas->ipyturtle3) (24.2)\n",
            "Requirement already satisfied: psutil in /usr/local/lib/python3.11/dist-packages (from ipykernel>=4.5.1->ipywidgets<9,>=7.6.0->ipycanvas->ipyturtle3) (5.9.5)\n",
            "Requirement already satisfied: pyzmq>=17 in /usr/local/lib/python3.11/dist-packages (from ipykernel>=4.5.1->ipywidgets<9,>=7.6.0->ipycanvas->ipyturtle3) (24.0.1)\n",
            "Requirement already satisfied: tornado>=6.1 in /usr/local/lib/python3.11/dist-packages (from ipykernel>=4.5.1->ipywidgets<9,>=7.6.0->ipycanvas->ipyturtle3) (6.4.2)\n",
            "Requirement already satisfied: setuptools>=18.5 in /usr/local/lib/python3.11/dist-packages (from ipython>=4.0.0->ipywidgets<9,>=7.6.0->ipycanvas->ipyturtle3) (75.2.0)\n",
            "Requirement already satisfied: jedi>=0.16 in /usr/local/lib/python3.11/dist-packages (from ipython>=4.0.0->ipywidgets<9,>=7.6.0->ipycanvas->ipyturtle3) (0.19.2)\n",
            "Requirement already satisfied: decorator in /usr/local/lib/python3.11/dist-packages (from ipython>=4.0.0->ipywidgets<9,>=7.6.0->ipycanvas->ipyturtle3) (4.4.2)\n",
            "Requirement already satisfied: pickleshare in /usr/local/lib/python3.11/dist-packages (from ipython>=4.0.0->ipywidgets<9,>=7.6.0->ipycanvas->ipyturtle3) (0.7.5)\n",
            "Requirement already satisfied: prompt-toolkit!=3.0.0,!=3.0.1,<3.1.0,>=2.0.0 in /usr/local/lib/python3.11/dist-packages (from ipython>=4.0.0->ipywidgets<9,>=7.6.0->ipycanvas->ipyturtle3) (3.0.50)\n",
            "Requirement already satisfied: pygments in /usr/local/lib/python3.11/dist-packages (from ipython>=4.0.0->ipywidgets<9,>=7.6.0->ipycanvas->ipyturtle3) (2.18.0)\n",
            "Requirement already satisfied: backcall in /usr/local/lib/python3.11/dist-packages (from ipython>=4.0.0->ipywidgets<9,>=7.6.0->ipycanvas->ipyturtle3) (0.2.0)\n",
            "Requirement already satisfied: pexpect>4.3 in /usr/local/lib/python3.11/dist-packages (from ipython>=4.0.0->ipywidgets<9,>=7.6.0->ipycanvas->ipyturtle3) (4.9.0)\n",
            "Requirement already satisfied: notebook>=4.4.1 in /usr/local/lib/python3.11/dist-packages (from widgetsnbextension~=3.6.0->ipywidgets<9,>=7.6.0->ipycanvas->ipyturtle3) (6.5.7)\n",
            "Requirement already satisfied: parso<0.9.0,>=0.8.4 in /usr/local/lib/python3.11/dist-packages (from jedi>=0.16->ipython>=4.0.0->ipywidgets<9,>=7.6.0->ipycanvas->ipyturtle3) (0.8.4)\n",
            "Requirement already satisfied: jupyter-core>=4.6.0 in /usr/local/lib/python3.11/dist-packages (from jupyter-client>=6.1.12->ipykernel>=4.5.1->ipywidgets<9,>=7.6.0->ipycanvas->ipyturtle3) (5.7.2)\n",
            "Requirement already satisfied: python-dateutil>=2.1 in /usr/local/lib/python3.11/dist-packages (from jupyter-client>=6.1.12->ipykernel>=4.5.1->ipywidgets<9,>=7.6.0->ipycanvas->ipyturtle3) (2.8.2)\n",
            "Requirement already satisfied: jinja2 in /usr/local/lib/python3.11/dist-packages (from notebook>=4.4.1->widgetsnbextension~=3.6.0->ipywidgets<9,>=7.6.0->ipycanvas->ipyturtle3) (3.1.6)\n",
            "Requirement already satisfied: argon2-cffi in /usr/local/lib/python3.11/dist-packages (from notebook>=4.4.1->widgetsnbextension~=3.6.0->ipywidgets<9,>=7.6.0->ipycanvas->ipyturtle3) (23.1.0)\n",
            "Requirement already satisfied: nbformat in /usr/local/lib/python3.11/dist-packages (from notebook>=4.4.1->widgetsnbextension~=3.6.0->ipywidgets<9,>=7.6.0->ipycanvas->ipyturtle3) (5.10.4)\n",
            "Requirement already satisfied: nbconvert>=5 in /usr/local/lib/python3.11/dist-packages (from notebook>=4.4.1->widgetsnbextension~=3.6.0->ipywidgets<9,>=7.6.0->ipycanvas->ipyturtle3) (7.16.6)\n",
            "Requirement already satisfied: Send2Trash>=1.8.0 in /usr/local/lib/python3.11/dist-packages (from notebook>=4.4.1->widgetsnbextension~=3.6.0->ipywidgets<9,>=7.6.0->ipycanvas->ipyturtle3) (1.8.3)\n",
            "Requirement already satisfied: terminado>=0.8.3 in /usr/local/lib/python3.11/dist-packages (from notebook>=4.4.1->widgetsnbextension~=3.6.0->ipywidgets<9,>=7.6.0->ipycanvas->ipyturtle3) (0.18.1)\n",
            "Requirement already satisfied: prometheus-client in /usr/local/lib/python3.11/dist-packages (from notebook>=4.4.1->widgetsnbextension~=3.6.0->ipywidgets<9,>=7.6.0->ipycanvas->ipyturtle3) (0.21.1)\n",
            "Requirement already satisfied: nbclassic>=0.4.7 in /usr/local/lib/python3.11/dist-packages (from notebook>=4.4.1->widgetsnbextension~=3.6.0->ipywidgets<9,>=7.6.0->ipycanvas->ipyturtle3) (1.2.0)\n",
            "Requirement already satisfied: ptyprocess>=0.5 in /usr/local/lib/python3.11/dist-packages (from pexpect>4.3->ipython>=4.0.0->ipywidgets<9,>=7.6.0->ipycanvas->ipyturtle3) (0.7.0)\n",
            "Requirement already satisfied: wcwidth in /usr/local/lib/python3.11/dist-packages (from prompt-toolkit!=3.0.0,!=3.0.1,<3.1.0,>=2.0.0->ipython>=4.0.0->ipywidgets<9,>=7.6.0->ipycanvas->ipyturtle3) (0.2.13)\n",
            "Requirement already satisfied: platformdirs>=2.5 in /usr/local/lib/python3.11/dist-packages (from jupyter-core>=4.6.0->jupyter-client>=6.1.12->ipykernel>=4.5.1->ipywidgets<9,>=7.6.0->ipycanvas->ipyturtle3) (4.3.7)\n",
            "Requirement already satisfied: notebook-shim>=0.2.3 in /usr/local/lib/python3.11/dist-packages (from nbclassic>=0.4.7->notebook>=4.4.1->widgetsnbextension~=3.6.0->ipywidgets<9,>=7.6.0->ipycanvas->ipyturtle3) (0.2.4)\n",
            "Requirement already satisfied: beautifulsoup4 in /usr/local/lib/python3.11/dist-packages (from nbconvert>=5->notebook>=4.4.1->widgetsnbextension~=3.6.0->ipywidgets<9,>=7.6.0->ipycanvas->ipyturtle3) (4.13.3)\n",
            "Requirement already satisfied: bleach!=5.0.0 in /usr/local/lib/python3.11/dist-packages (from bleach[css]!=5.0.0->nbconvert>=5->notebook>=4.4.1->widgetsnbextension~=3.6.0->ipywidgets<9,>=7.6.0->ipycanvas->ipyturtle3) (6.2.0)\n",
            "Requirement already satisfied: defusedxml in /usr/local/lib/python3.11/dist-packages (from nbconvert>=5->notebook>=4.4.1->widgetsnbextension~=3.6.0->ipywidgets<9,>=7.6.0->ipycanvas->ipyturtle3) (0.7.1)\n",
            "Requirement already satisfied: jupyterlab-pygments in /usr/local/lib/python3.11/dist-packages (from nbconvert>=5->notebook>=4.4.1->widgetsnbextension~=3.6.0->ipywidgets<9,>=7.6.0->ipycanvas->ipyturtle3) (0.3.0)\n",
            "Requirement already satisfied: markupsafe>=2.0 in /usr/local/lib/python3.11/dist-packages (from nbconvert>=5->notebook>=4.4.1->widgetsnbextension~=3.6.0->ipywidgets<9,>=7.6.0->ipycanvas->ipyturtle3) (3.0.2)\n",
            "Requirement already satisfied: mistune<4,>=2.0.3 in /usr/local/lib/python3.11/dist-packages (from nbconvert>=5->notebook>=4.4.1->widgetsnbextension~=3.6.0->ipywidgets<9,>=7.6.0->ipycanvas->ipyturtle3) (3.1.3)\n",
            "Requirement already satisfied: nbclient>=0.5.0 in /usr/local/lib/python3.11/dist-packages (from nbconvert>=5->notebook>=4.4.1->widgetsnbextension~=3.6.0->ipywidgets<9,>=7.6.0->ipycanvas->ipyturtle3) (0.10.2)\n",
            "Requirement already satisfied: pandocfilters>=1.4.1 in /usr/local/lib/python3.11/dist-packages (from nbconvert>=5->notebook>=4.4.1->widgetsnbextension~=3.6.0->ipywidgets<9,>=7.6.0->ipycanvas->ipyturtle3) (1.5.1)\n",
            "Requirement already satisfied: fastjsonschema>=2.15 in /usr/local/lib/python3.11/dist-packages (from nbformat->notebook>=4.4.1->widgetsnbextension~=3.6.0->ipywidgets<9,>=7.6.0->ipycanvas->ipyturtle3) (2.21.1)\n",
            "Requirement already satisfied: jsonschema>=2.6 in /usr/local/lib/python3.11/dist-packages (from nbformat->notebook>=4.4.1->widgetsnbextension~=3.6.0->ipywidgets<9,>=7.6.0->ipycanvas->ipyturtle3) (4.23.0)\n",
            "Requirement already satisfied: six>=1.5 in /usr/local/lib/python3.11/dist-packages (from python-dateutil>=2.1->jupyter-client>=6.1.12->ipykernel>=4.5.1->ipywidgets<9,>=7.6.0->ipycanvas->ipyturtle3) (1.17.0)\n",
            "Requirement already satisfied: argon2-cffi-bindings in /usr/local/lib/python3.11/dist-packages (from argon2-cffi->notebook>=4.4.1->widgetsnbextension~=3.6.0->ipywidgets<9,>=7.6.0->ipycanvas->ipyturtle3) (21.2.0)\n",
            "Requirement already satisfied: webencodings in /usr/local/lib/python3.11/dist-packages (from bleach!=5.0.0->bleach[css]!=5.0.0->nbconvert>=5->notebook>=4.4.1->widgetsnbextension~=3.6.0->ipywidgets<9,>=7.6.0->ipycanvas->ipyturtle3) (0.5.1)\n",
            "Requirement already satisfied: tinycss2<1.5,>=1.1.0 in /usr/local/lib/python3.11/dist-packages (from bleach[css]!=5.0.0->nbconvert>=5->notebook>=4.4.1->widgetsnbextension~=3.6.0->ipywidgets<9,>=7.6.0->ipycanvas->ipyturtle3) (1.4.0)\n",
            "Requirement already satisfied: attrs>=22.2.0 in /usr/local/lib/python3.11/dist-packages (from jsonschema>=2.6->nbformat->notebook>=4.4.1->widgetsnbextension~=3.6.0->ipywidgets<9,>=7.6.0->ipycanvas->ipyturtle3) (25.3.0)\n",
            "Requirement already satisfied: jsonschema-specifications>=2023.03.6 in /usr/local/lib/python3.11/dist-packages (from jsonschema>=2.6->nbformat->notebook>=4.4.1->widgetsnbextension~=3.6.0->ipywidgets<9,>=7.6.0->ipycanvas->ipyturtle3) (2024.10.1)\n",
            "Requirement already satisfied: referencing>=0.28.4 in /usr/local/lib/python3.11/dist-packages (from jsonschema>=2.6->nbformat->notebook>=4.4.1->widgetsnbextension~=3.6.0->ipywidgets<9,>=7.6.0->ipycanvas->ipyturtle3) (0.36.2)\n",
            "Requirement already satisfied: rpds-py>=0.7.1 in /usr/local/lib/python3.11/dist-packages (from jsonschema>=2.6->nbformat->notebook>=4.4.1->widgetsnbextension~=3.6.0->ipywidgets<9,>=7.6.0->ipycanvas->ipyturtle3) (0.24.0)\n",
            "Requirement already satisfied: jupyter-server<3,>=1.8 in /usr/local/lib/python3.11/dist-packages (from notebook-shim>=0.2.3->nbclassic>=0.4.7->notebook>=4.4.1->widgetsnbextension~=3.6.0->ipywidgets<9,>=7.6.0->ipycanvas->ipyturtle3) (1.16.0)\n",
            "Requirement already satisfied: cffi>=1.0.1 in /usr/local/lib/python3.11/dist-packages (from argon2-cffi-bindings->argon2-cffi->notebook>=4.4.1->widgetsnbextension~=3.6.0->ipywidgets<9,>=7.6.0->ipycanvas->ipyturtle3) (1.17.1)\n",
            "Requirement already satisfied: soupsieve>1.2 in /usr/local/lib/python3.11/dist-packages (from beautifulsoup4->nbconvert>=5->notebook>=4.4.1->widgetsnbextension~=3.6.0->ipywidgets<9,>=7.6.0->ipycanvas->ipyturtle3) (2.6)\n",
            "Requirement already satisfied: typing-extensions>=4.0.0 in /usr/local/lib/python3.11/dist-packages (from beautifulsoup4->nbconvert>=5->notebook>=4.4.1->widgetsnbextension~=3.6.0->ipywidgets<9,>=7.6.0->ipycanvas->ipyturtle3) (4.13.1)\n",
            "Requirement already satisfied: pycparser in /usr/local/lib/python3.11/dist-packages (from cffi>=1.0.1->argon2-cffi-bindings->argon2-cffi->notebook>=4.4.1->widgetsnbextension~=3.6.0->ipywidgets<9,>=7.6.0->ipycanvas->ipyturtle3) (2.22)\n",
            "Requirement already satisfied: anyio>=3.1.0 in /usr/local/lib/python3.11/dist-packages (from jupyter-server<3,>=1.8->notebook-shim>=0.2.3->nbclassic>=0.4.7->notebook>=4.4.1->widgetsnbextension~=3.6.0->ipywidgets<9,>=7.6.0->ipycanvas->ipyturtle3) (4.9.0)\n",
            "Requirement already satisfied: websocket-client in /usr/local/lib/python3.11/dist-packages (from jupyter-server<3,>=1.8->notebook-shim>=0.2.3->nbclassic>=0.4.7->notebook>=4.4.1->widgetsnbextension~=3.6.0->ipywidgets<9,>=7.6.0->ipycanvas->ipyturtle3) (1.8.0)\n",
            "Requirement already satisfied: idna>=2.8 in /usr/local/lib/python3.11/dist-packages (from anyio>=3.1.0->jupyter-server<3,>=1.8->notebook-shim>=0.2.3->nbclassic>=0.4.7->notebook>=4.4.1->widgetsnbextension~=3.6.0->ipywidgets<9,>=7.6.0->ipycanvas->ipyturtle3) (3.10)\n",
            "Requirement already satisfied: sniffio>=1.1 in /usr/local/lib/python3.11/dist-packages (from anyio>=3.1.0->jupyter-server<3,>=1.8->notebook-shim>=0.2.3->nbclassic>=0.4.7->notebook>=4.4.1->widgetsnbextension~=3.6.0->ipywidgets<9,>=7.6.0->ipycanvas->ipyturtle3) (1.3.1)\n"
          ]
        }
      ]
    },
    {
      "cell_type": "markdown",
      "source": [
        "# get the path from a text file\n",
        "\n",
        "like this :\n",
        "1232312320000232020210"
      ],
      "metadata": {
        "id": "gjovuOaYR50W"
      }
    },
    {
      "cell_type": "code",
      "source": [
        "# take a file path consisting of digit paths separated by newlines\n",
        "# and return a list of lists of digits\n",
        "# the digits must be between 0 and 3\n",
        "def get_paths_from_file(file_path):\n",
        "    with open(file_path, 'r') as file:\n",
        "        content = file.readlines()\n",
        "\n",
        "    # Process each line to extract digits and ensure they are between 0 and 3\n",
        "    result = []\n",
        "    for line in content:\n",
        "        line = line.strip()  # Remove any leading/trailing whitespace or newline characters\n",
        "        digits = [int(digit) for digit in line if digit.isdigit() and 0 <= int(digit) <= 3]\n",
        "        result.append(digits)\n",
        "\n",
        "    return result\n",
        "\n",
        "# Example usage:\n",
        "# If the input file contains:\n",
        "# 0123\n",
        "# 3210\n",
        "# The function will return: [[0, 1, 2, 3], [3, 2, 1, 0]]\n"
      ],
      "metadata": {
        "id": "ow1we-FaSCDX"
      },
      "execution_count": 28,
      "outputs": []
    },
    {
      "cell_type": "markdown",
      "source": [
        "# Random creation of a self avoiding_path"
      ],
      "metadata": {
        "id": "fTyn_4O209Re"
      }
    },
    {
      "cell_type": "code",
      "source": [
        "def generate_self_avoiding_path(length):\n",
        "    directions = []\n",
        "    visited = set()\n",
        "    x, y = 0, 0\n",
        "    visited.add((x, y))\n",
        "\n",
        "    for _ in range(length):\n",
        "        possible_moves = []\n",
        "        if (x, y + 1) not in visited:  # North\n",
        "            possible_moves.append('n')\n",
        "        if (x, y - 1) not in visited:  # South\n",
        "            possible_moves.append('s')\n",
        "        if (x + 1, y) not in visited:  # East\n",
        "            possible_moves.append('e')\n",
        "        if (x - 1, y) not in visited:  # West\n",
        "            possible_moves.append('w')\n",
        "\n",
        "        if not possible_moves:\n",
        "            break  # No more moves available\n",
        "\n",
        "        move = random.choice(possible_moves)\n",
        "        directions.append(move)\n",
        "\n",
        "        if move == 'n':\n",
        "            y += 1\n",
        "        elif move == 's':\n",
        "            y -= 1\n",
        "        elif move == 'e':\n",
        "            x += 1\n",
        "        elif move == 'w':\n",
        "            x -= 1\n",
        "\n",
        "        visited.add((x, y))\n",
        "\n",
        "    return directions\n",
        "\n",
        "# Générer un chemin auto-évitant de longueur 20\n",
        "path = generate_self_avoiding_path(2000)\n",
        "print(path)"
      ],
      "metadata": {
        "colab": {
          "base_uri": "https://localhost:8080/"
        },
        "id": "cH6cYwbyyDjF",
        "outputId": "cfe3a66f-93c4-4bb5-c401-4728f571d1f8"
      },
      "execution_count": 29,
      "outputs": [
        {
          "output_type": "stream",
          "name": "stdout",
          "text": [
            "['s', 's', 's', 'e', 'n', 'n', 'n', 'e', 's', 's', 's', 'e', 's', 'w', 's', 's', 's', 's', 's', 's', 'e', 's', 'e', 'n', 'n', 'w', 'n', 'e', 'e', 's', 'e', 's', 'w', 's', 'e', 's', 'w', 'w', 'w', 'w', 'w', 'n', 'n', 'w', 's', 's', 'w', 'w', 'w', 's', 's', 'w', 's', 'w', 's', 'w', 's', 'w', 's', 'e', 'e', 's', 's', 'e', 'n', 'n', 'n', 'n', 'e', 'n', 'e', 's', 'e', 's', 'e', 'e', 'n', 'e', 's', 'e', 's', 'e', 'n', 'n', 'w', 'n', 'w', 'w', 'w', 'w', 'n', 'n', 'w', 's']\n"
          ]
        }
      ]
    },
    {
      "cell_type": "markdown",
      "source": [
        "# print a self avoiding path"
      ],
      "metadata": {
        "id": "M0pyQ7SQ1EUb"
      }
    },
    {
      "cell_type": "code",
      "execution_count": 35,
      "metadata": {
        "id": "6GowUVpEvaWg"
      },
      "outputs": [],
      "source": [
        "\n",
        "  # Fonction pour dessiner le chemin\n",
        "def draw_path(digits):\n",
        "    x, y = 0, 0\n",
        "    x_coords, y_coords = [x], [y]\n",
        "\n",
        "    for digit in digits:\n",
        "        if digit == 3:  # Nord\n",
        "            y += 1\n",
        "        elif digit == 1:  # Sud\n",
        "            y -= 1\n",
        "        elif digit == 0:  # Est\n",
        "            x += 1\n",
        "        elif digit == 2:  # Ouest\n",
        "            x -= 1\n",
        "\n",
        "        x_coords.append(x)\n",
        "        y_coords.append(y)\n",
        "\n",
        "    plt.figure(figsize=(8, 8))\n",
        "    plt.plot(x_coords, y_coords, 'b-')\n",
        "    plt.scatter(x_coords[0], y_coords[0], color='green', label='Départ')\n",
        "    plt.scatter(x_coords[-1], y_coords[-1], color='red', label='Arrivée')\n",
        "    plt.legend()\n",
        "    plt.axis('equal')  # Pour que les axes soient égaux\n",
        "    plt.show()\n",
        "\n",
        "\n",
        "import matplotlib.pyplot as plt\n",
        "import os\n",
        "\n",
        "def draw_path_and_export(digits, directory_path):\n",
        "    # Initialiser les coordonnées\n",
        "    x, y = 0, 0\n",
        "    x_coords, y_coords = [x], [y]\n",
        "\n",
        "    # Calculer les coordonnées en fonction des directions\n",
        "    for digit in digits:\n",
        "        if digit == 3:  # Nord\n",
        "            y += 1\n",
        "        elif digit == 1:  # Sud\n",
        "            y -= 1\n",
        "        elif digit == 0:  # Est\n",
        "            x += 1\n",
        "        elif digit == 2:  # Ouest\n",
        "            x -= 1\n",
        "\n",
        "        x_coords.append(x)\n",
        "        y_coords.append(y)\n",
        "\n",
        "    # Dessiner le chemin avec matplotlib\n",
        "    plt.figure(figsize=(8, 8))\n",
        "    plt.plot(x_coords, y_coords, 'b-')\n",
        "    plt.scatter(x_coords[0], y_coords[0], color='green', label='Départ')\n",
        "    plt.scatter(x_coords[-1], y_coords[-1], color='red', label='Arrivée')\n",
        "    plt.legend()\n",
        "    plt.axis('equal')  # Pour que les axes soient égaux\n",
        "\n",
        "    # Générer un nom de fichier unique pour éviter d'écraser un fichier existant\n",
        "    base_filename = \"drawing\"\n",
        "    file_extension = \".png\"\n",
        "    output_path = os.path.join(directory_path, base_filename + file_extension)\n",
        "    counter = 1\n",
        "\n",
        "    while os.path.exists(output_path):\n",
        "        output_path = os.path.join(directory_path, f\"{base_filename}_{counter}{file_extension}\")\n",
        "        counter += 1\n",
        "\n",
        "    # Sauvegarder le dessin en PNG dans le répertoire spécifié\n",
        "    plt.savefig(output_path)\n",
        "    plt.close()  # Fermer la figure pour éviter d'occuper la mémoire\n",
        "\n",
        "    print(f\"Image sauvegardée dans : {output_path}\")\n"
      ]
    },
    {
      "cell_type": "code",
      "source": [
        "# Fonction principale\n",
        "def main():\n",
        "  # the path of the file\n",
        "  file_path = \"/content/test.txt\"\n",
        "\n",
        "  # translate the path to a digit tab\n",
        "  digits = get_paths_from_file(file_path)\n",
        "\n",
        "  for digit in digits:\n",
        "\n",
        "    draw_path_and_export(digit, \"/content/\")\n",
        "\n",
        "# Exécuter la fonction principale\n",
        "main()"
      ],
      "metadata": {
        "id": "oWEVNeLAPrxA",
        "outputId": "d866a8f8-a16c-4e22-8b69-7974f3f702f8",
        "colab": {
          "base_uri": "https://localhost:8080/"
        }
      },
      "execution_count": 36,
      "outputs": [
        {
          "output_type": "stream",
          "name": "stdout",
          "text": [
            "Image sauvegardée dans : /content/drawing.png\n",
            "Image sauvegardée dans : /content/drawing_1.png\n",
            "Image sauvegardée dans : /content/drawing_2.png\n",
            "Image sauvegardée dans : /content/drawing_3.png\n",
            "Image sauvegardée dans : /content/drawing_4.png\n",
            "Image sauvegardée dans : /content/drawing_5.png\n",
            "Image sauvegardée dans : /content/drawing_6.png\n"
          ]
        }
      ]
    }
  ]
}