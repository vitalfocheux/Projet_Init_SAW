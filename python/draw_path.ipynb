{
  "cells": [
    {
      "cell_type": "markdown",
      "metadata": {
        "id": "iNiZ8hk305Id"
      },
      "source": [
        "# Downloads and Imports"
      ]
    },
    {
      "cell_type": "code",
      "execution_count": null,
      "metadata": {
        "colab": {
          "base_uri": "https://localhost:8080/"
        },
        "id": "qdSV6YmYwZ2B",
        "outputId": "8ec742be-38df-4cad-9e32-9a40d9e9c763"
      },
      "outputs": [
        {
          "ename": "",
          "evalue": "",
          "output_type": "error",
          "traceback": [
            "\u001b[1;31mRunning cells with 'Python 3.11.2' requires the ipykernel package.\n",
            "\u001b[1;31mRun the following command to install 'ipykernel' into the Python environment. \n",
            "\u001b[1;31mCommand: '/bin/python3 -m pip install ipykernel -U --user --force-reinstall'"
          ]
        }
      ],
      "source": [
        "!pip install ipyturtle3\n",
        "\n",
        "import random\n",
        "import matplotlib.pyplot as plt\n",
        "import numpy as np"
      ]
    },
    {
      "cell_type": "markdown",
      "metadata": {
        "id": "gjovuOaYR50W"
      },
      "source": [
        "# get the path from a text file\n",
        "\n",
        "like this :\n",
        "1232312320000232020210"
      ]
    },
    {
      "cell_type": "code",
      "execution_count": 28,
      "metadata": {
        "id": "ow1we-FaSCDX"
      },
      "outputs": [],
      "source": [
        "# take a file path consisting of digit paths separated by newlines\n",
        "# and return a list of lists of digits\n",
        "# the digits must be between 0 and 3\n",
        "def get_paths_from_file(file_path):\n",
        "    with open(file_path, 'r') as file:\n",
        "        content = file.readlines()\n",
        "\n",
        "    # Process each line to extract digits and ensure they are between 0 and 3\n",
        "    result = []\n",
        "    for line in content:\n",
        "        line = line.strip()  # Remove any leading/trailing whitespace or newline characters\n",
        "        digits = [int(digit) for digit in line if digit.isdigit() and 0 <= int(digit) <= 3]\n",
        "        result.append(digits)\n",
        "\n",
        "    return result\n",
        "\n",
        "# Example usage:\n",
        "# If the input file contains:\n",
        "# 0123\n",
        "# 3210\n",
        "# The function will return: [[0, 1, 2, 3], [3, 2, 1, 0]]\n"
      ]
    },
    {
      "cell_type": "markdown",
      "metadata": {
        "id": "fTyn_4O209Re"
      },
      "source": [
        "# Random creation of a self avoiding_path"
      ]
    },
    {
      "cell_type": "code",
      "execution_count": null,
      "metadata": {
        "colab": {
          "base_uri": "https://localhost:8080/"
        },
        "id": "cH6cYwbyyDjF",
        "outputId": "cfe3a66f-93c4-4bb5-c401-4728f571d1f8"
      },
      "outputs": [],
      "source": [
        "def generate_self_avoiding_path(length):\n",
        "    directions = []\n",
        "    visited = set()\n",
        "    x, y = 0, 0\n",
        "    visited.add((x, y))\n",
        "\n",
        "    for _ in range(length):\n",
        "        possible_moves = []\n",
        "        if (x, y + 1) not in visited:  # North\n",
        "            possible_moves.append('n')\n",
        "        if (x, y - 1) not in visited:  # South\n",
        "            possible_moves.append('s')\n",
        "        if (x + 1, y) not in visited:  # East\n",
        "            possible_moves.append('e')\n",
        "        if (x - 1, y) not in visited:  # West\n",
        "            possible_moves.append('w')\n",
        "\n",
        "        if not possible_moves:\n",
        "            break  # No more moves available\n",
        "\n",
        "        move = random.choice(possible_moves)\n",
        "        directions.append(move)\n",
        "\n",
        "        if move == 'n':\n",
        "            y += 1\n",
        "        elif move == 's':\n",
        "            y -= 1\n",
        "        elif move == 'e':\n",
        "            x += 1\n",
        "        elif move == 'w':\n",
        "            x -= 1\n",
        "\n",
        "        visited.add((x, y))\n",
        "\n",
        "    return directions\n",
        "\n",
        "# Générer un chemin auto-évitant de longueur 20\n",
        "path = generate_self_avoiding_path(2000)\n",
        "print(path)"
      ]
    },
    {
      "cell_type": "markdown",
      "metadata": {
        "id": "M0pyQ7SQ1EUb"
      },
      "source": [
        "# print a self avoiding path"
      ]
    },
    {
      "cell_type": "code",
      "execution_count": 37,
      "metadata": {
        "id": "6GowUVpEvaWg"
      },
      "outputs": [],
      "source": [
        "\n",
        "  # Fonction pour dessiner le chemin\n",
        "def draw_path(digits):\n",
        "    x, y = 0, 0\n",
        "    x_coords, y_coords = [x], [y]\n",
        "\n",
        "    for digit in digits:\n",
        "        if digit == 3:  # Nord\n",
        "            y += 1\n",
        "        elif digit == 1:  # Sud\n",
        "            y -= 1\n",
        "        elif digit == 0:  # Est\n",
        "            x += 1\n",
        "        elif digit == 2:  # Ouest\n",
        "            x -= 1\n",
        "\n",
        "        x_coords.append(x)\n",
        "        y_coords.append(y)\n",
        "\n",
        "    plt.figure(figsize=(8, 8))\n",
        "    plt.plot(x_coords, y_coords, 'b-')\n",
        "    plt.scatter(x_coords[0], y_coords[0], color='green', label='Départ')\n",
        "    plt.scatter(x_coords[-1], y_coords[-1], color='red', label='Arrivée')\n",
        "    plt.legend()\n",
        "    plt.axis('equal')  # Pour que les axes soient égaux\n",
        "    plt.show()\n",
        "\n",
        "\n",
        "import matplotlib.pyplot as plt\n",
        "import os\n",
        "\n",
        "def draw_path_and_export(digits, directory_path):\n",
        "    if not os.path.exists(directory_path):\n",
        "        os.makedirs(directory_path)\n",
        "    # Initialiser les coordonnées\n",
        "    x, y = 0, 0\n",
        "    x_coords, y_coords = [x], [y]\n",
        "\n",
        "    # Calculer les coordonnées en fonction des directions\n",
        "    for digit in digits:\n",
        "        if digit == 3:  # Nord\n",
        "            y += 1\n",
        "        elif digit == 1:  # Sud\n",
        "            y -= 1\n",
        "        elif digit == 0:  # Est\n",
        "            x += 1\n",
        "        elif digit == 2:  # Ouest\n",
        "            x -= 1\n",
        "\n",
        "        x_coords.append(x)\n",
        "        y_coords.append(y)\n",
        "\n",
        "    # Dessiner le chemin avec matplotlib\n",
        "    plt.figure(figsize=(8, 8))\n",
        "    plt.plot(x_coords, y_coords, 'b-')\n",
        "    plt.scatter(x_coords[0], y_coords[0], color='green', label='Départ')\n",
        "    plt.scatter(x_coords[-1], y_coords[-1], color='red', label='Arrivée')\n",
        "    plt.legend()\n",
        "    plt.axis('equal')  # Pour que les axes soient égaux\n",
        "\n",
        "    # Générer un nom de fichier unique pour éviter d'écraser un fichier existant\n",
        "    base_filename = \"drawing\"\n",
        "    file_extension = \".png\"\n",
        "    output_path = os.path.join(directory_path, base_filename + file_extension)\n",
        "    counter = 1\n",
        "\n",
        "    while os.path.exists(output_path):\n",
        "        output_path = os.path.join(directory_path, f\"{base_filename}_{counter}{file_extension}\")\n",
        "        counter += 1\n",
        "\n",
        "    # Sauvegarder le dessin en PNG dans le répertoire spécifié\n",
        "    plt.savefig(output_path)\n",
        "    plt.close()  # Fermer la figure pour éviter d'occuper la mémoire\n",
        "\n",
        "    print(f\"Image sauvegardée dans : {output_path}\")\n"
      ]
    },
    {
      "cell_type": "code",
      "execution_count": null,
      "metadata": {
        "colab": {
          "base_uri": "https://localhost:8080/"
        },
        "id": "oWEVNeLAPrxA",
        "outputId": "dc7868ad-f997-4535-c4ad-33bbdfe40e64"
      },
      "outputs": [],
      "source": [
        "# Fonction principale\n",
        "def main():\n",
        "  # the path of the file\n",
        "  input_file_path = \"../R_1.txt\" #modifier le chemin relatif vers le fichier des saw\n",
        "  output_directory_path = \"../drawing\" # modifier le chemin relatif vers le dossier de sortie (peut ne pas exister)\n",
        "\n",
        "  # translate the path to a digit tab\n",
        "  digits = get_paths_from_file(input_file_path)\n",
        "\n",
        "  for digit in digits:\n",
        "\n",
        "    draw_path_and_export(digit, output_directory_path)\n",
        "\n",
        "# Exécuter la fonction principale\n",
        "main()"
      ]
    }
  ],
  "metadata": {
    "colab": {
      "provenance": []
    },
    "kernelspec": {
      "display_name": "Python 3",
      "name": "python3"
    },
    "language_info": {
      "name": "python",
      "version": "3.11.2"
    }
  },
  "nbformat": 4,
  "nbformat_minor": 0
}
