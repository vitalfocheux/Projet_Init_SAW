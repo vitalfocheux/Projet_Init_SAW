{
  "nbformat": 4,
  "nbformat_minor": 0,
  "metadata": {
    "colab": {
      "provenance": [],
      "authorship_tag": "ABX9TyMBg3UAHsDFPnD1rBFGgFQh",
      "include_colab_link": true
    },
    "kernelspec": {
      "name": "python3",
      "display_name": "Python 3"
    },
    "language_info": {
      "name": "python"
    }
  },
  "cells": [
    {
      "cell_type": "markdown",
      "metadata": {
        "id": "view-in-github",
        "colab_type": "text"
      },
      "source": [
        "<a href=\"https://colab.research.google.com/github/vitalfocheux/Projet_Init_SAW/blob/main/draw_path.ipynb\" target=\"_parent\"><img src=\"https://colab.research.google.com/assets/colab-badge.svg\" alt=\"Open In Colab\"/></a>"
      ]
    },
    {
      "cell_type": "code",
      "source": [
        "import random\n",
        "\n",
        "def generate_self_avoiding_path(length):\n",
        "    directions = []\n",
        "    visited = set()\n",
        "    x, y = 0, 0\n",
        "    visited.add((x, y))\n",
        "\n",
        "    for _ in range(length):\n",
        "        possible_moves = []\n",
        "        if (x, y + 1) not in visited:  # North\n",
        "            possible_moves.append('n')\n",
        "        if (x, y - 1) not in visited:  # South\n",
        "            possible_moves.append('s')\n",
        "        if (x + 1, y) not in visited:  # East\n",
        "            possible_moves.append('e')\n",
        "        if (x - 1, y) not in visited:  # West\n",
        "            possible_moves.append('w')\n",
        "\n",
        "        if not possible_moves:\n",
        "            break  # No more moves available\n",
        "\n",
        "        move = random.choice(possible_moves)\n",
        "        directions.append(move)\n",
        "\n",
        "        if move == 'n':\n",
        "            y += 1\n",
        "        elif move == 's':\n",
        "            y -= 1\n",
        "        elif move == 'e':\n",
        "            x += 1\n",
        "        elif move == 'w':\n",
        "            x -= 1\n",
        "\n",
        "        visited.add((x, y))\n",
        "\n",
        "    return directions\n",
        "\n",
        "# Générer un chemin auto-évitant de longueur 20\n",
        "path = generate_self_avoiding_path(2000)\n",
        "print(path)"
      ],
      "metadata": {
        "colab": {
          "base_uri": "https://localhost:8080/"
        },
        "id": "cH6cYwbyyDjF",
        "outputId": "87bd7e54-8dab-4be8-ec66-fdd989efe023"
      },
      "execution_count": 21,
      "outputs": [
        {
          "output_type": "stream",
          "name": "stdout",
          "text": [
            "['e', 's', 's', 'w', 'w', 'w', 's', 's', 'w', 's', 'w', 'n', 'n', 'w', 'n', 'w', 's', 's', 'w', 's', 'w', 'w', 's', 'w', 'w', 'w', 'n', 'n', 'e', 'n', 'e', 'n', 'n', 'e', 's', 'e', 'n', 'n', 'e', 's', 'e', 'e', 'e', 's', 'e', 'n', 'n', 'e', 'e', 'n', 'e', 'n', 'n', 'n', 'e', 'e', 'n', 'w', 'w', 'n', 'e', 'n', 'w', 'w', 's', 's', 'w', 'n', 'w', 'n', 'n', 'n', 'e', 'n', 'e', 's', 'e', 'n', 'e', 'n', 'n', 'n', 'e', 'e', 'n', 'w', 'n', 'n', 'n', 'e', 'e', 'e', 'n', 'e', 'e', 'n', 'w', 'n', 'n', 'w', 's', 'w', 'w', 's', 'w', 'n', 'n', 'e', 'e', 'n', 'w', 'n', 'w', 'n', 'n', 'e', 'e', 'n', 'e', 'n', 'n', 'n', 'n', 'n', 'n', 'n', 'e', 'e', 'e', 's', 's', 'w', 's', 'w', 's', 'e', 's', 's', 'w', 's', 's', 'w', 's', 'e', 'e', 'n', 'n', 'e', 'e', 'e', 'e', 's', 's', 's', 's', 'e', 'n', 'n', 'e', 's', 's', 's', 'w', 'w', 's', 'e', 's', 'e', 'n', 'e', 'n', 'e', 's', 'e', 'e', 'e', 's', 's', 'e', 'n', 'e', 's', 's', 's', 'w', 'n', 'w', 's', 'w', 'w', 'w', 'w', 'w', 's', 'e', 's', 's', 'w', 's', 'w', 'w', 'n', 'w', 's', 'w', 's', 'w', 'w', 'w', 'w', 's', 's', 'w', 'w', 'w', 'n', 'e', 'e', 'n', 'n', 'e', 'e', 'e', 'n', 'w', 'w', 'w', 'n', 'e', 'e', 'e', 'n', 'n', 'n', 'w', 's', 'w', 'w', 's', 'e', 'e']\n"
          ]
        }
      ]
    },
    {
      "cell_type": "code",
      "source": [
        "!pip install ipyturtle3"
      ],
      "metadata": {
        "colab": {
          "base_uri": "https://localhost:8080/"
        },
        "id": "qdSV6YmYwZ2B",
        "outputId": "121b7ebf-d659-4b30-9357-e34569e3fb72"
      },
      "execution_count": 13,
      "outputs": [
        {
          "output_type": "stream",
          "name": "stdout",
          "text": [
            "Requirement already satisfied: ipyturtle3 in /usr/local/lib/python3.11/dist-packages (0.1.4)\n",
            "Requirement already satisfied: ipycanvas in /usr/local/lib/python3.11/dist-packages (from ipyturtle3) (0.13.3)\n",
            "Requirement already satisfied: webcolors in /usr/local/lib/python3.11/dist-packages (from ipyturtle3) (24.11.1)\n",
            "Requirement already satisfied: ipywidgets<9,>=7.6.0 in /usr/local/lib/python3.11/dist-packages (from ipycanvas->ipyturtle3) (7.7.1)\n",
            "Requirement already satisfied: numpy in /usr/local/lib/python3.11/dist-packages (from ipycanvas->ipyturtle3) (2.0.2)\n",
            "Requirement already satisfied: pillow>=6.0 in /usr/local/lib/python3.11/dist-packages (from ipycanvas->ipyturtle3) (11.1.0)\n",
            "Requirement already satisfied: ipykernel>=4.5.1 in /usr/local/lib/python3.11/dist-packages (from ipywidgets<9,>=7.6.0->ipycanvas->ipyturtle3) (6.17.1)\n",
            "Requirement already satisfied: ipython-genutils~=0.2.0 in /usr/local/lib/python3.11/dist-packages (from ipywidgets<9,>=7.6.0->ipycanvas->ipyturtle3) (0.2.0)\n",
            "Requirement already satisfied: traitlets>=4.3.1 in /usr/local/lib/python3.11/dist-packages (from ipywidgets<9,>=7.6.0->ipycanvas->ipyturtle3) (5.7.1)\n",
            "Requirement already satisfied: widgetsnbextension~=3.6.0 in /usr/local/lib/python3.11/dist-packages (from ipywidgets<9,>=7.6.0->ipycanvas->ipyturtle3) (3.6.10)\n",
            "Requirement already satisfied: ipython>=4.0.0 in /usr/local/lib/python3.11/dist-packages (from ipywidgets<9,>=7.6.0->ipycanvas->ipyturtle3) (7.34.0)\n",
            "Requirement already satisfied: jupyterlab-widgets>=1.0.0 in /usr/local/lib/python3.11/dist-packages (from ipywidgets<9,>=7.6.0->ipycanvas->ipyturtle3) (3.0.13)\n",
            "Requirement already satisfied: debugpy>=1.0 in /usr/local/lib/python3.11/dist-packages (from ipykernel>=4.5.1->ipywidgets<9,>=7.6.0->ipycanvas->ipyturtle3) (1.8.0)\n",
            "Requirement already satisfied: jupyter-client>=6.1.12 in /usr/local/lib/python3.11/dist-packages (from ipykernel>=4.5.1->ipywidgets<9,>=7.6.0->ipycanvas->ipyturtle3) (6.1.12)\n",
            "Requirement already satisfied: matplotlib-inline>=0.1 in /usr/local/lib/python3.11/dist-packages (from ipykernel>=4.5.1->ipywidgets<9,>=7.6.0->ipycanvas->ipyturtle3) (0.1.7)\n",
            "Requirement already satisfied: nest-asyncio in /usr/local/lib/python3.11/dist-packages (from ipykernel>=4.5.1->ipywidgets<9,>=7.6.0->ipycanvas->ipyturtle3) (1.6.0)\n",
            "Requirement already satisfied: packaging in /usr/local/lib/python3.11/dist-packages (from ipykernel>=4.5.1->ipywidgets<9,>=7.6.0->ipycanvas->ipyturtle3) (24.2)\n",
            "Requirement already satisfied: psutil in /usr/local/lib/python3.11/dist-packages (from ipykernel>=4.5.1->ipywidgets<9,>=7.6.0->ipycanvas->ipyturtle3) (5.9.5)\n",
            "Requirement already satisfied: pyzmq>=17 in /usr/local/lib/python3.11/dist-packages (from ipykernel>=4.5.1->ipywidgets<9,>=7.6.0->ipycanvas->ipyturtle3) (24.0.1)\n",
            "Requirement already satisfied: tornado>=6.1 in /usr/local/lib/python3.11/dist-packages (from ipykernel>=4.5.1->ipywidgets<9,>=7.6.0->ipycanvas->ipyturtle3) (6.4.2)\n",
            "Requirement already satisfied: setuptools>=18.5 in /usr/local/lib/python3.11/dist-packages (from ipython>=4.0.0->ipywidgets<9,>=7.6.0->ipycanvas->ipyturtle3) (75.1.0)\n",
            "Requirement already satisfied: jedi>=0.16 in /usr/local/lib/python3.11/dist-packages (from ipython>=4.0.0->ipywidgets<9,>=7.6.0->ipycanvas->ipyturtle3) (0.19.2)\n",
            "Requirement already satisfied: decorator in /usr/local/lib/python3.11/dist-packages (from ipython>=4.0.0->ipywidgets<9,>=7.6.0->ipycanvas->ipyturtle3) (4.4.2)\n",
            "Requirement already satisfied: pickleshare in /usr/local/lib/python3.11/dist-packages (from ipython>=4.0.0->ipywidgets<9,>=7.6.0->ipycanvas->ipyturtle3) (0.7.5)\n",
            "Requirement already satisfied: prompt-toolkit!=3.0.0,!=3.0.1,<3.1.0,>=2.0.0 in /usr/local/lib/python3.11/dist-packages (from ipython>=4.0.0->ipywidgets<9,>=7.6.0->ipycanvas->ipyturtle3) (3.0.50)\n",
            "Requirement already satisfied: pygments in /usr/local/lib/python3.11/dist-packages (from ipython>=4.0.0->ipywidgets<9,>=7.6.0->ipycanvas->ipyturtle3) (2.18.0)\n",
            "Requirement already satisfied: backcall in /usr/local/lib/python3.11/dist-packages (from ipython>=4.0.0->ipywidgets<9,>=7.6.0->ipycanvas->ipyturtle3) (0.2.0)\n",
            "Requirement already satisfied: pexpect>4.3 in /usr/local/lib/python3.11/dist-packages (from ipython>=4.0.0->ipywidgets<9,>=7.6.0->ipycanvas->ipyturtle3) (4.9.0)\n",
            "Requirement already satisfied: notebook>=4.4.1 in /usr/local/lib/python3.11/dist-packages (from widgetsnbextension~=3.6.0->ipywidgets<9,>=7.6.0->ipycanvas->ipyturtle3) (6.5.5)\n",
            "Requirement already satisfied: parso<0.9.0,>=0.8.4 in /usr/local/lib/python3.11/dist-packages (from jedi>=0.16->ipython>=4.0.0->ipywidgets<9,>=7.6.0->ipycanvas->ipyturtle3) (0.8.4)\n",
            "Requirement already satisfied: jupyter-core>=4.6.0 in /usr/local/lib/python3.11/dist-packages (from jupyter-client>=6.1.12->ipykernel>=4.5.1->ipywidgets<9,>=7.6.0->ipycanvas->ipyturtle3) (5.7.2)\n",
            "Requirement already satisfied: python-dateutil>=2.1 in /usr/local/lib/python3.11/dist-packages (from jupyter-client>=6.1.12->ipykernel>=4.5.1->ipywidgets<9,>=7.6.0->ipycanvas->ipyturtle3) (2.8.2)\n",
            "Requirement already satisfied: jinja2 in /usr/local/lib/python3.11/dist-packages (from notebook>=4.4.1->widgetsnbextension~=3.6.0->ipywidgets<9,>=7.6.0->ipycanvas->ipyturtle3) (3.1.6)\n",
            "Requirement already satisfied: argon2-cffi in /usr/local/lib/python3.11/dist-packages (from notebook>=4.4.1->widgetsnbextension~=3.6.0->ipywidgets<9,>=7.6.0->ipycanvas->ipyturtle3) (23.1.0)\n",
            "Requirement already satisfied: nbformat in /usr/local/lib/python3.11/dist-packages (from notebook>=4.4.1->widgetsnbextension~=3.6.0->ipywidgets<9,>=7.6.0->ipycanvas->ipyturtle3) (5.10.4)\n",
            "Requirement already satisfied: nbconvert>=5 in /usr/local/lib/python3.11/dist-packages (from notebook>=4.4.1->widgetsnbextension~=3.6.0->ipywidgets<9,>=7.6.0->ipycanvas->ipyturtle3) (7.16.6)\n",
            "Requirement already satisfied: Send2Trash>=1.8.0 in /usr/local/lib/python3.11/dist-packages (from notebook>=4.4.1->widgetsnbextension~=3.6.0->ipywidgets<9,>=7.6.0->ipycanvas->ipyturtle3) (1.8.3)\n",
            "Requirement already satisfied: terminado>=0.8.3 in /usr/local/lib/python3.11/dist-packages (from notebook>=4.4.1->widgetsnbextension~=3.6.0->ipywidgets<9,>=7.6.0->ipycanvas->ipyturtle3) (0.18.1)\n",
            "Requirement already satisfied: prometheus-client in /usr/local/lib/python3.11/dist-packages (from notebook>=4.4.1->widgetsnbextension~=3.6.0->ipywidgets<9,>=7.6.0->ipycanvas->ipyturtle3) (0.21.1)\n",
            "Requirement already satisfied: nbclassic>=0.4.7 in /usr/local/lib/python3.11/dist-packages (from notebook>=4.4.1->widgetsnbextension~=3.6.0->ipywidgets<9,>=7.6.0->ipycanvas->ipyturtle3) (1.2.0)\n",
            "Requirement already satisfied: ptyprocess>=0.5 in /usr/local/lib/python3.11/dist-packages (from pexpect>4.3->ipython>=4.0.0->ipywidgets<9,>=7.6.0->ipycanvas->ipyturtle3) (0.7.0)\n",
            "Requirement already satisfied: wcwidth in /usr/local/lib/python3.11/dist-packages (from prompt-toolkit!=3.0.0,!=3.0.1,<3.1.0,>=2.0.0->ipython>=4.0.0->ipywidgets<9,>=7.6.0->ipycanvas->ipyturtle3) (0.2.13)\n",
            "Requirement already satisfied: platformdirs>=2.5 in /usr/local/lib/python3.11/dist-packages (from jupyter-core>=4.6.0->jupyter-client>=6.1.12->ipykernel>=4.5.1->ipywidgets<9,>=7.6.0->ipycanvas->ipyturtle3) (4.3.6)\n",
            "Requirement already satisfied: notebook-shim>=0.2.3 in /usr/local/lib/python3.11/dist-packages (from nbclassic>=0.4.7->notebook>=4.4.1->widgetsnbextension~=3.6.0->ipywidgets<9,>=7.6.0->ipycanvas->ipyturtle3) (0.2.4)\n",
            "Requirement already satisfied: beautifulsoup4 in /usr/local/lib/python3.11/dist-packages (from nbconvert>=5->notebook>=4.4.1->widgetsnbextension~=3.6.0->ipywidgets<9,>=7.6.0->ipycanvas->ipyturtle3) (4.13.3)\n",
            "Requirement already satisfied: bleach!=5.0.0 in /usr/local/lib/python3.11/dist-packages (from bleach[css]!=5.0.0->nbconvert>=5->notebook>=4.4.1->widgetsnbextension~=3.6.0->ipywidgets<9,>=7.6.0->ipycanvas->ipyturtle3) (6.2.0)\n",
            "Requirement already satisfied: defusedxml in /usr/local/lib/python3.11/dist-packages (from nbconvert>=5->notebook>=4.4.1->widgetsnbextension~=3.6.0->ipywidgets<9,>=7.6.0->ipycanvas->ipyturtle3) (0.7.1)\n",
            "Requirement already satisfied: jupyterlab-pygments in /usr/local/lib/python3.11/dist-packages (from nbconvert>=5->notebook>=4.4.1->widgetsnbextension~=3.6.0->ipywidgets<9,>=7.6.0->ipycanvas->ipyturtle3) (0.3.0)\n",
            "Requirement already satisfied: markupsafe>=2.0 in /usr/local/lib/python3.11/dist-packages (from nbconvert>=5->notebook>=4.4.1->widgetsnbextension~=3.6.0->ipywidgets<9,>=7.6.0->ipycanvas->ipyturtle3) (3.0.2)\n",
            "Requirement already satisfied: mistune<4,>=2.0.3 in /usr/local/lib/python3.11/dist-packages (from nbconvert>=5->notebook>=4.4.1->widgetsnbextension~=3.6.0->ipywidgets<9,>=7.6.0->ipycanvas->ipyturtle3) (3.1.2)\n",
            "Requirement already satisfied: nbclient>=0.5.0 in /usr/local/lib/python3.11/dist-packages (from nbconvert>=5->notebook>=4.4.1->widgetsnbextension~=3.6.0->ipywidgets<9,>=7.6.0->ipycanvas->ipyturtle3) (0.10.2)\n",
            "Requirement already satisfied: pandocfilters>=1.4.1 in /usr/local/lib/python3.11/dist-packages (from nbconvert>=5->notebook>=4.4.1->widgetsnbextension~=3.6.0->ipywidgets<9,>=7.6.0->ipycanvas->ipyturtle3) (1.5.1)\n",
            "Requirement already satisfied: fastjsonschema>=2.15 in /usr/local/lib/python3.11/dist-packages (from nbformat->notebook>=4.4.1->widgetsnbextension~=3.6.0->ipywidgets<9,>=7.6.0->ipycanvas->ipyturtle3) (2.21.1)\n",
            "Requirement already satisfied: jsonschema>=2.6 in /usr/local/lib/python3.11/dist-packages (from nbformat->notebook>=4.4.1->widgetsnbextension~=3.6.0->ipywidgets<9,>=7.6.0->ipycanvas->ipyturtle3) (4.23.0)\n",
            "Requirement already satisfied: six>=1.5 in /usr/local/lib/python3.11/dist-packages (from python-dateutil>=2.1->jupyter-client>=6.1.12->ipykernel>=4.5.1->ipywidgets<9,>=7.6.0->ipycanvas->ipyturtle3) (1.17.0)\n",
            "Requirement already satisfied: argon2-cffi-bindings in /usr/local/lib/python3.11/dist-packages (from argon2-cffi->notebook>=4.4.1->widgetsnbextension~=3.6.0->ipywidgets<9,>=7.6.0->ipycanvas->ipyturtle3) (21.2.0)\n",
            "Requirement already satisfied: webencodings in /usr/local/lib/python3.11/dist-packages (from bleach!=5.0.0->bleach[css]!=5.0.0->nbconvert>=5->notebook>=4.4.1->widgetsnbextension~=3.6.0->ipywidgets<9,>=7.6.0->ipycanvas->ipyturtle3) (0.5.1)\n",
            "Requirement already satisfied: tinycss2<1.5,>=1.1.0 in /usr/local/lib/python3.11/dist-packages (from bleach[css]!=5.0.0->nbconvert>=5->notebook>=4.4.1->widgetsnbextension~=3.6.0->ipywidgets<9,>=7.6.0->ipycanvas->ipyturtle3) (1.4.0)\n",
            "Requirement already satisfied: attrs>=22.2.0 in /usr/local/lib/python3.11/dist-packages (from jsonschema>=2.6->nbformat->notebook>=4.4.1->widgetsnbextension~=3.6.0->ipywidgets<9,>=7.6.0->ipycanvas->ipyturtle3) (25.3.0)\n",
            "Requirement already satisfied: jsonschema-specifications>=2023.03.6 in /usr/local/lib/python3.11/dist-packages (from jsonschema>=2.6->nbformat->notebook>=4.4.1->widgetsnbextension~=3.6.0->ipywidgets<9,>=7.6.0->ipycanvas->ipyturtle3) (2024.10.1)\n",
            "Requirement already satisfied: referencing>=0.28.4 in /usr/local/lib/python3.11/dist-packages (from jsonschema>=2.6->nbformat->notebook>=4.4.1->widgetsnbextension~=3.6.0->ipywidgets<9,>=7.6.0->ipycanvas->ipyturtle3) (0.36.2)\n",
            "Requirement already satisfied: rpds-py>=0.7.1 in /usr/local/lib/python3.11/dist-packages (from jsonschema>=2.6->nbformat->notebook>=4.4.1->widgetsnbextension~=3.6.0->ipywidgets<9,>=7.6.0->ipycanvas->ipyturtle3) (0.23.1)\n",
            "Requirement already satisfied: jupyter-server<3,>=1.8 in /usr/local/lib/python3.11/dist-packages (from notebook-shim>=0.2.3->nbclassic>=0.4.7->notebook>=4.4.1->widgetsnbextension~=3.6.0->ipywidgets<9,>=7.6.0->ipycanvas->ipyturtle3) (1.24.0)\n",
            "Requirement already satisfied: cffi>=1.0.1 in /usr/local/lib/python3.11/dist-packages (from argon2-cffi-bindings->argon2-cffi->notebook>=4.4.1->widgetsnbextension~=3.6.0->ipywidgets<9,>=7.6.0->ipycanvas->ipyturtle3) (1.17.1)\n",
            "Requirement already satisfied: soupsieve>1.2 in /usr/local/lib/python3.11/dist-packages (from beautifulsoup4->nbconvert>=5->notebook>=4.4.1->widgetsnbextension~=3.6.0->ipywidgets<9,>=7.6.0->ipycanvas->ipyturtle3) (2.6)\n",
            "Requirement already satisfied: typing-extensions>=4.0.0 in /usr/local/lib/python3.11/dist-packages (from beautifulsoup4->nbconvert>=5->notebook>=4.4.1->widgetsnbextension~=3.6.0->ipywidgets<9,>=7.6.0->ipycanvas->ipyturtle3) (4.12.2)\n",
            "Requirement already satisfied: pycparser in /usr/local/lib/python3.11/dist-packages (from cffi>=1.0.1->argon2-cffi-bindings->argon2-cffi->notebook>=4.4.1->widgetsnbextension~=3.6.0->ipywidgets<9,>=7.6.0->ipycanvas->ipyturtle3) (2.22)\n",
            "Requirement already satisfied: anyio<4,>=3.1.0 in /usr/local/lib/python3.11/dist-packages (from jupyter-server<3,>=1.8->notebook-shim>=0.2.3->nbclassic>=0.4.7->notebook>=4.4.1->widgetsnbextension~=3.6.0->ipywidgets<9,>=7.6.0->ipycanvas->ipyturtle3) (3.7.1)\n",
            "Requirement already satisfied: websocket-client in /usr/local/lib/python3.11/dist-packages (from jupyter-server<3,>=1.8->notebook-shim>=0.2.3->nbclassic>=0.4.7->notebook>=4.4.1->widgetsnbextension~=3.6.0->ipywidgets<9,>=7.6.0->ipycanvas->ipyturtle3) (1.8.0)\n",
            "Requirement already satisfied: idna>=2.8 in /usr/local/lib/python3.11/dist-packages (from anyio<4,>=3.1.0->jupyter-server<3,>=1.8->notebook-shim>=0.2.3->nbclassic>=0.4.7->notebook>=4.4.1->widgetsnbextension~=3.6.0->ipywidgets<9,>=7.6.0->ipycanvas->ipyturtle3) (3.10)\n",
            "Requirement already satisfied: sniffio>=1.1 in /usr/local/lib/python3.11/dist-packages (from anyio<4,>=3.1.0->jupyter-server<3,>=1.8->notebook-shim>=0.2.3->nbclassic>=0.4.7->notebook>=4.4.1->widgetsnbextension~=3.6.0->ipywidgets<9,>=7.6.0->ipycanvas->ipyturtle3) (1.3.1)\n"
          ]
        }
      ]
    },
    {
      "cell_type": "code",
      "execution_count": 22,
      "metadata": {
        "colab": {
          "base_uri": "https://localhost:8080/",
          "height": 676
        },
        "id": "6GowUVpEvaWg",
        "outputId": "27137149-c90e-4094-e0e2-dc34c8c4057a"
      },
      "outputs": [
        {
          "output_type": "display_data",
          "data": {
            "text/plain": [
              "<Figure size 800x800 with 1 Axes>"
            ],
            "image/png": "[encoded data removed]"
          },
          "metadata": {}
        }
      ],
      "source": [
        "import matplotlib.pyplot as plt\n",
        "import numpy as np\n",
        "\n",
        "# Fonction pour convertir une liste de lettres en directions pour le chemin\n",
        "def letters_to_direction(letters):\n",
        "    directions = []\n",
        "    for letter in letters:\n",
        "        if letter == 'n':\n",
        "            directions.append(0)\n",
        "        elif letter == 's':\n",
        "            directions.append(180)\n",
        "        elif letter == 'e':\n",
        "            directions.append(90)\n",
        "        elif letter == 'w':\n",
        "            directions.append(270)\n",
        "    return directions\n",
        "\n",
        "# Fonction pour dessiner le chemin\n",
        "def draw_path(directions):\n",
        "    x, y = 0, 0\n",
        "    x_coords, y_coords = [x], [y]\n",
        "\n",
        "    for direction in directions:\n",
        "        if direction == 0:  # Nord\n",
        "            y += 1\n",
        "        elif direction == 180:  # Sud\n",
        "            y -= 1\n",
        "        elif direction == 90:  # Est\n",
        "            x += 1\n",
        "        elif direction == 270:  # Ouest\n",
        "            x -= 1\n",
        "\n",
        "        x_coords.append(x)\n",
        "        y_coords.append(y)\n",
        "\n",
        "    plt.figure(figsize=(8, 8))\n",
        "    plt.plot(x_coords, y_coords, 'b-')\n",
        "    plt.scatter(x_coords[0], y_coords[0], color='green', label='Départ')\n",
        "    plt.scatter(x_coords[-1], y_coords[-1], color='red', label='Arrivée')\n",
        "    plt.legend()\n",
        "    plt.axis('equal')  # Pour que les axes soient égaux\n",
        "    plt.show()\n",
        "\n",
        "# Fonction principale\n",
        "def main():\n",
        "    # Liste de lettres\n",
        "    letters = ['e', 's', 's', 'w', 'w', 'w', 's', 's', 'w', 's', 'w', 'n', 'n', 'w', 'n', 'w', 's', 's', 'w', 's', 'w', 'w', 's', 'w', 'w', 'w', 'n', 'n', 'e', 'n', 'e', 'n', 'n', 'e', 's', 'e', 'n', 'n', 'e', 's', 'e', 'e', 'e', 's', 'e', 'n', 'n', 'e', 'e', 'n', 'e', 'n', 'n', 'n', 'e', 'e', 'n', 'w', 'w', 'n', 'e', 'n', 'w', 'w', 's', 's', 'w', 'n', 'w', 'n', 'n', 'n', 'e', 'n', 'e', 's', 'e', 'n', 'e', 'n', 'n', 'n', 'e', 'e', 'n', 'w', 'n', 'n', 'n', 'e', 'e', 'e', 'n', 'e', 'e', 'n', 'w', 'n', 'n', 'w', 's', 'w', 'w', 's', 'w', 'n', 'n', 'e', 'e', 'n', 'w', 'n', 'w', 'n', 'n', 'e', 'e', 'n', 'e', 'n', 'n', 'n', 'n', 'n', 'n', 'n', 'e', 'e', 'e', 's', 's', 'w', 's', 'w', 's', 'e', 's', 's', 'w', 's', 's', 'w', 's', 'e', 'e', 'n', 'n', 'e', 'e', 'e', 'e', 's', 's', 's', 's', 'e', 'n', 'n', 'e', 's', 's', 's', 'w', 'w', 's', 'e', 's', 'e', 'n', 'e', 'n', 'e', 's', 'e', 'e', 'e', 's', 's', 'e', 'n', 'e', 's', 's', 's', 'w', 'n', 'w', 's', 'w', 'w', 'w', 'w', 'w', 's', 'e', 's', 's', 'w', 's', 'w', 'w', 'n', 'w', 's', 'w', 's', 'w', 'w', 'w', 'w', 's', 's', 'w', 'w', 'w', 'n', 'e', 'e', 'n', 'n', 'e', 'e', 'e', 'n', 'w', 'w', 'w', 'n', 'e', 'e', 'e', 'n', 'n', 'n', 'w', 's', 'w', 'w', 's', 'e', 'e']\n",
        "\n",
        "    # Convertir les lettres en directions\n",
        "    directions = letters_to_direction(letters)\n",
        "\n",
        "    # Dessiner le chemin\n",
        "    draw_path(directions)\n",
        "\n",
        "# Exécuter la fonction principale\n",
        "main()"
      ]
    },
    {
      "cell_type": "code",
      "source": [],
      "metadata": {
        "id": "afVQLKMsyH-e"
      },
      "execution_count": null,
      "outputs": []
    }
  ]
}